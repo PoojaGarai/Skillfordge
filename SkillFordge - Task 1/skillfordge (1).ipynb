{
  "nbformat": 4,
  "nbformat_minor": 0,
  "metadata": {
    "colab": {
      "provenance": []
    },
    "kernelspec": {
      "name": "python3",
      "display_name": "Python 3"
    },
    "language_info": {
      "name": "python"
    }
  },
  "cells": [
    {
      "cell_type": "code",
      "execution_count": null,
      "metadata": {
        "id": "3dUmXPIYkv9l"
      },
      "outputs": [],
      "source": [
        "import pandas as pd\n",
        "import numpy as np\n",
        "import seaborn as sns\n",
        "import matplotlib.pyplot as plt\n",
        "from sklearn.model_selection import train_test_split\n",
        "from sklearn.preprocessing import LabelEncoder\n",
        "from sklearn.linear_model import LogisticRegression\n",
        "from sklearn.neighbors import KNeighborsClassifier\n",
        "from sklearn.svm import SVC\n",
        "from sklearn.metrics import confusion_matrix, classification_report, accuracy_score"
      ]
    },
    {
      "cell_type": "code",
      "source": [
        "# Load the dataset\n",
        "df = pd.read_csv('credit_customers (DS).csv')"
      ],
      "metadata": {
        "id": "i2cQqfMVtWeQ"
      },
      "execution_count": null,
      "outputs": []
    },
    {
      "cell_type": "code",
      "source": [
        "df.head()"
      ],
      "metadata": {
        "colab": {
          "base_uri": "https://localhost:8080/",
          "height": 279
        },
        "id": "KnM3lBwOtjIe",
        "outputId": "5752d997-24d4-49b1-8da6-16dfe9075cdf"
      },
      "execution_count": null,
      "outputs": [
        {
          "output_type": "execute_result",
          "data": {
            "text/plain": [
              "   checking_status  duration  credit_history  purpose  credit_amount  \\\n",
              "0                1       6.0               1        6         1169.0   \n",
              "1                0      48.0               3        6         5951.0   \n",
              "2                3      12.0               1        2         2096.0   \n",
              "3                1      42.0               3        3         7882.0   \n",
              "4                1      24.0               2        4         4870.0   \n",
              "\n",
              "   savings_status  employment  installment_commitment  personal_status  \\\n",
              "0               4           3                     4.0                3   \n",
              "1               2           0                     2.0                0   \n",
              "2               2           1                     2.0                3   \n",
              "3               2           1                     2.0                3   \n",
              "4               2           0                     3.0                3   \n",
              "\n",
              "   other_parties  ...  property_magnitude   age  other_payment_plans  housing  \\\n",
              "0              2  ...                   3  67.0                    1        1   \n",
              "1              2  ...                   3  22.0                    1        1   \n",
              "2              2  ...                   3  49.0                    1        1   \n",
              "3              1  ...                   1  45.0                    1        0   \n",
              "4              2  ...                   2  53.0                    1        0   \n",
              "\n",
              "   existing_credits  job  num_dependents  own_telephone  foreign_worker  class  \n",
              "0               2.0    1             1.0              1               1      1  \n",
              "1               1.0    1             1.0              0               1      0  \n",
              "2               1.0    3             2.0              0               1      1  \n",
              "3               1.0    1             2.0              0               1      1  \n",
              "4               2.0    1             2.0              0               1      0  \n",
              "\n",
              "[5 rows x 21 columns]"
            ],
            "text/html": [
              "\n",
              "  <div id=\"df-fe7fdca5-8fde-4d0c-b4dd-6edf2050be70\" class=\"colab-df-container\">\n",
              "    <div>\n",
              "<style scoped>\n",
              "    .dataframe tbody tr th:only-of-type {\n",
              "        vertical-align: middle;\n",
              "    }\n",
              "\n",
              "    .dataframe tbody tr th {\n",
              "        vertical-align: top;\n",
              "    }\n",
              "\n",
              "    .dataframe thead th {\n",
              "        text-align: right;\n",
              "    }\n",
              "</style>\n",
              "<table border=\"1\" class=\"dataframe\">\n",
              "  <thead>\n",
              "    <tr style=\"text-align: right;\">\n",
              "      <th></th>\n",
              "      <th>checking_status</th>\n",
              "      <th>duration</th>\n",
              "      <th>credit_history</th>\n",
              "      <th>purpose</th>\n",
              "      <th>credit_amount</th>\n",
              "      <th>savings_status</th>\n",
              "      <th>employment</th>\n",
              "      <th>installment_commitment</th>\n",
              "      <th>personal_status</th>\n",
              "      <th>other_parties</th>\n",
              "      <th>...</th>\n",
              "      <th>property_magnitude</th>\n",
              "      <th>age</th>\n",
              "      <th>other_payment_plans</th>\n",
              "      <th>housing</th>\n",
              "      <th>existing_credits</th>\n",
              "      <th>job</th>\n",
              "      <th>num_dependents</th>\n",
              "      <th>own_telephone</th>\n",
              "      <th>foreign_worker</th>\n",
              "      <th>class</th>\n",
              "    </tr>\n",
              "  </thead>\n",
              "  <tbody>\n",
              "    <tr>\n",
              "      <th>0</th>\n",
              "      <td>1</td>\n",
              "      <td>6.0</td>\n",
              "      <td>1</td>\n",
              "      <td>6</td>\n",
              "      <td>1169.0</td>\n",
              "      <td>4</td>\n",
              "      <td>3</td>\n",
              "      <td>4.0</td>\n",
              "      <td>3</td>\n",
              "      <td>2</td>\n",
              "      <td>...</td>\n",
              "      <td>3</td>\n",
              "      <td>67.0</td>\n",
              "      <td>1</td>\n",
              "      <td>1</td>\n",
              "      <td>2.0</td>\n",
              "      <td>1</td>\n",
              "      <td>1.0</td>\n",
              "      <td>1</td>\n",
              "      <td>1</td>\n",
              "      <td>1</td>\n",
              "    </tr>\n",
              "    <tr>\n",
              "      <th>1</th>\n",
              "      <td>0</td>\n",
              "      <td>48.0</td>\n",
              "      <td>3</td>\n",
              "      <td>6</td>\n",
              "      <td>5951.0</td>\n",
              "      <td>2</td>\n",
              "      <td>0</td>\n",
              "      <td>2.0</td>\n",
              "      <td>0</td>\n",
              "      <td>2</td>\n",
              "      <td>...</td>\n",
              "      <td>3</td>\n",
              "      <td>22.0</td>\n",
              "      <td>1</td>\n",
              "      <td>1</td>\n",
              "      <td>1.0</td>\n",
              "      <td>1</td>\n",
              "      <td>1.0</td>\n",
              "      <td>0</td>\n",
              "      <td>1</td>\n",
              "      <td>0</td>\n",
              "    </tr>\n",
              "    <tr>\n",
              "      <th>2</th>\n",
              "      <td>3</td>\n",
              "      <td>12.0</td>\n",
              "      <td>1</td>\n",
              "      <td>2</td>\n",
              "      <td>2096.0</td>\n",
              "      <td>2</td>\n",
              "      <td>1</td>\n",
              "      <td>2.0</td>\n",
              "      <td>3</td>\n",
              "      <td>2</td>\n",
              "      <td>...</td>\n",
              "      <td>3</td>\n",
              "      <td>49.0</td>\n",
              "      <td>1</td>\n",
              "      <td>1</td>\n",
              "      <td>1.0</td>\n",
              "      <td>3</td>\n",
              "      <td>2.0</td>\n",
              "      <td>0</td>\n",
              "      <td>1</td>\n",
              "      <td>1</td>\n",
              "    </tr>\n",
              "    <tr>\n",
              "      <th>3</th>\n",
              "      <td>1</td>\n",
              "      <td>42.0</td>\n",
              "      <td>3</td>\n",
              "      <td>3</td>\n",
              "      <td>7882.0</td>\n",
              "      <td>2</td>\n",
              "      <td>1</td>\n",
              "      <td>2.0</td>\n",
              "      <td>3</td>\n",
              "      <td>1</td>\n",
              "      <td>...</td>\n",
              "      <td>1</td>\n",
              "      <td>45.0</td>\n",
              "      <td>1</td>\n",
              "      <td>0</td>\n",
              "      <td>1.0</td>\n",
              "      <td>1</td>\n",
              "      <td>2.0</td>\n",
              "      <td>0</td>\n",
              "      <td>1</td>\n",
              "      <td>1</td>\n",
              "    </tr>\n",
              "    <tr>\n",
              "      <th>4</th>\n",
              "      <td>1</td>\n",
              "      <td>24.0</td>\n",
              "      <td>2</td>\n",
              "      <td>4</td>\n",
              "      <td>4870.0</td>\n",
              "      <td>2</td>\n",
              "      <td>0</td>\n",
              "      <td>3.0</td>\n",
              "      <td>3</td>\n",
              "      <td>2</td>\n",
              "      <td>...</td>\n",
              "      <td>2</td>\n",
              "      <td>53.0</td>\n",
              "      <td>1</td>\n",
              "      <td>0</td>\n",
              "      <td>2.0</td>\n",
              "      <td>1</td>\n",
              "      <td>2.0</td>\n",
              "      <td>0</td>\n",
              "      <td>1</td>\n",
              "      <td>0</td>\n",
              "    </tr>\n",
              "  </tbody>\n",
              "</table>\n",
              "<p>5 rows × 21 columns</p>\n",
              "</div>\n",
              "    <div class=\"colab-df-buttons\">\n",
              "\n",
              "  <div class=\"colab-df-container\">\n",
              "    <button class=\"colab-df-convert\" onclick=\"convertToInteractive('df-fe7fdca5-8fde-4d0c-b4dd-6edf2050be70')\"\n",
              "            title=\"Convert this dataframe to an interactive table.\"\n",
              "            style=\"display:none;\">\n",
              "\n",
              "  <svg xmlns=\"http://www.w3.org/2000/svg\" height=\"24px\" viewBox=\"0 -960 960 960\">\n",
              "    <path d=\"M120-120v-720h720v720H120Zm60-500h600v-160H180v160Zm220 220h160v-160H400v160Zm0 220h160v-160H400v160ZM180-400h160v-160H180v160Zm440 0h160v-160H620v160ZM180-180h160v-160H180v160Zm440 0h160v-160H620v160Z\"/>\n",
              "  </svg>\n",
              "    </button>\n",
              "\n",
              "  <style>\n",
              "    .colab-df-container {\n",
              "      display:flex;\n",
              "      gap: 12px;\n",
              "    }\n",
              "\n",
              "    .colab-df-convert {\n",
              "      background-color: #E8F0FE;\n",
              "      border: none;\n",
              "      border-radius: 50%;\n",
              "      cursor: pointer;\n",
              "      display: none;\n",
              "      fill: #1967D2;\n",
              "      height: 32px;\n",
              "      padding: 0 0 0 0;\n",
              "      width: 32px;\n",
              "    }\n",
              "\n",
              "    .colab-df-convert:hover {\n",
              "      background-color: #E2EBFA;\n",
              "      box-shadow: 0px 1px 2px rgba(60, 64, 67, 0.3), 0px 1px 3px 1px rgba(60, 64, 67, 0.15);\n",
              "      fill: #174EA6;\n",
              "    }\n",
              "\n",
              "    .colab-df-buttons div {\n",
              "      margin-bottom: 4px;\n",
              "    }\n",
              "\n",
              "    [theme=dark] .colab-df-convert {\n",
              "      background-color: #3B4455;\n",
              "      fill: #D2E3FC;\n",
              "    }\n",
              "\n",
              "    [theme=dark] .colab-df-convert:hover {\n",
              "      background-color: #434B5C;\n",
              "      box-shadow: 0px 1px 3px 1px rgba(0, 0, 0, 0.15);\n",
              "      filter: drop-shadow(0px 1px 2px rgba(0, 0, 0, 0.3));\n",
              "      fill: #FFFFFF;\n",
              "    }\n",
              "  </style>\n",
              "\n",
              "    <script>\n",
              "      const buttonEl =\n",
              "        document.querySelector('#df-fe7fdca5-8fde-4d0c-b4dd-6edf2050be70 button.colab-df-convert');\n",
              "      buttonEl.style.display =\n",
              "        google.colab.kernel.accessAllowed ? 'block' : 'none';\n",
              "\n",
              "      async function convertToInteractive(key) {\n",
              "        const element = document.querySelector('#df-fe7fdca5-8fde-4d0c-b4dd-6edf2050be70');\n",
              "        const dataTable =\n",
              "          await google.colab.kernel.invokeFunction('convertToInteractive',\n",
              "                                                    [key], {});\n",
              "        if (!dataTable) return;\n",
              "\n",
              "        const docLinkHtml = 'Like what you see? Visit the ' +\n",
              "          '<a target=\"_blank\" href=https://colab.research.google.com/notebooks/data_table.ipynb>data table notebook</a>'\n",
              "          + ' to learn more about interactive tables.';\n",
              "        element.innerHTML = '';\n",
              "        dataTable['output_type'] = 'display_data';\n",
              "        await google.colab.output.renderOutput(dataTable, element);\n",
              "        const docLink = document.createElement('div');\n",
              "        docLink.innerHTML = docLinkHtml;\n",
              "        element.appendChild(docLink);\n",
              "      }\n",
              "    </script>\n",
              "  </div>\n",
              "\n",
              "\n",
              "<div id=\"df-d8eca4db-f369-4a96-9cf6-03328bacf782\">\n",
              "  <button class=\"colab-df-quickchart\" onclick=\"quickchart('df-d8eca4db-f369-4a96-9cf6-03328bacf782')\"\n",
              "            title=\"Suggest charts\"\n",
              "            style=\"display:none;\">\n",
              "\n",
              "<svg xmlns=\"http://www.w3.org/2000/svg\" height=\"24px\"viewBox=\"0 0 24 24\"\n",
              "     width=\"24px\">\n",
              "    <g>\n",
              "        <path d=\"M19 3H5c-1.1 0-2 .9-2 2v14c0 1.1.9 2 2 2h14c1.1 0 2-.9 2-2V5c0-1.1-.9-2-2-2zM9 17H7v-7h2v7zm4 0h-2V7h2v10zm4 0h-2v-4h2v4z\"/>\n",
              "    </g>\n",
              "</svg>\n",
              "  </button>\n",
              "\n",
              "<style>\n",
              "  .colab-df-quickchart {\n",
              "      --bg-color: #E8F0FE;\n",
              "      --fill-color: #1967D2;\n",
              "      --hover-bg-color: #E2EBFA;\n",
              "      --hover-fill-color: #174EA6;\n",
              "      --disabled-fill-color: #AAA;\n",
              "      --disabled-bg-color: #DDD;\n",
              "  }\n",
              "\n",
              "  [theme=dark] .colab-df-quickchart {\n",
              "      --bg-color: #3B4455;\n",
              "      --fill-color: #D2E3FC;\n",
              "      --hover-bg-color: #434B5C;\n",
              "      --hover-fill-color: #FFFFFF;\n",
              "      --disabled-bg-color: #3B4455;\n",
              "      --disabled-fill-color: #666;\n",
              "  }\n",
              "\n",
              "  .colab-df-quickchart {\n",
              "    background-color: var(--bg-color);\n",
              "    border: none;\n",
              "    border-radius: 50%;\n",
              "    cursor: pointer;\n",
              "    display: none;\n",
              "    fill: var(--fill-color);\n",
              "    height: 32px;\n",
              "    padding: 0;\n",
              "    width: 32px;\n",
              "  }\n",
              "\n",
              "  .colab-df-quickchart:hover {\n",
              "    background-color: var(--hover-bg-color);\n",
              "    box-shadow: 0 1px 2px rgba(60, 64, 67, 0.3), 0 1px 3px 1px rgba(60, 64, 67, 0.15);\n",
              "    fill: var(--button-hover-fill-color);\n",
              "  }\n",
              "\n",
              "  .colab-df-quickchart-complete:disabled,\n",
              "  .colab-df-quickchart-complete:disabled:hover {\n",
              "    background-color: var(--disabled-bg-color);\n",
              "    fill: var(--disabled-fill-color);\n",
              "    box-shadow: none;\n",
              "  }\n",
              "\n",
              "  .colab-df-spinner {\n",
              "    border: 2px solid var(--fill-color);\n",
              "    border-color: transparent;\n",
              "    border-bottom-color: var(--fill-color);\n",
              "    animation:\n",
              "      spin 1s steps(1) infinite;\n",
              "  }\n",
              "\n",
              "  @keyframes spin {\n",
              "    0% {\n",
              "      border-color: transparent;\n",
              "      border-bottom-color: var(--fill-color);\n",
              "      border-left-color: var(--fill-color);\n",
              "    }\n",
              "    20% {\n",
              "      border-color: transparent;\n",
              "      border-left-color: var(--fill-color);\n",
              "      border-top-color: var(--fill-color);\n",
              "    }\n",
              "    30% {\n",
              "      border-color: transparent;\n",
              "      border-left-color: var(--fill-color);\n",
              "      border-top-color: var(--fill-color);\n",
              "      border-right-color: var(--fill-color);\n",
              "    }\n",
              "    40% {\n",
              "      border-color: transparent;\n",
              "      border-right-color: var(--fill-color);\n",
              "      border-top-color: var(--fill-color);\n",
              "    }\n",
              "    60% {\n",
              "      border-color: transparent;\n",
              "      border-right-color: var(--fill-color);\n",
              "    }\n",
              "    80% {\n",
              "      border-color: transparent;\n",
              "      border-right-color: var(--fill-color);\n",
              "      border-bottom-color: var(--fill-color);\n",
              "    }\n",
              "    90% {\n",
              "      border-color: transparent;\n",
              "      border-bottom-color: var(--fill-color);\n",
              "    }\n",
              "  }\n",
              "</style>\n",
              "\n",
              "  <script>\n",
              "    async function quickchart(key) {\n",
              "      const quickchartButtonEl =\n",
              "        document.querySelector('#' + key + ' button');\n",
              "      quickchartButtonEl.disabled = true;  // To prevent multiple clicks.\n",
              "      quickchartButtonEl.classList.add('colab-df-spinner');\n",
              "      try {\n",
              "        const charts = await google.colab.kernel.invokeFunction(\n",
              "            'suggestCharts', [key], {});\n",
              "      } catch (error) {\n",
              "        console.error('Error during call to suggestCharts:', error);\n",
              "      }\n",
              "      quickchartButtonEl.classList.remove('colab-df-spinner');\n",
              "      quickchartButtonEl.classList.add('colab-df-quickchart-complete');\n",
              "    }\n",
              "    (() => {\n",
              "      let quickchartButtonEl =\n",
              "        document.querySelector('#df-d8eca4db-f369-4a96-9cf6-03328bacf782 button');\n",
              "      quickchartButtonEl.style.display =\n",
              "        google.colab.kernel.accessAllowed ? 'block' : 'none';\n",
              "    })();\n",
              "  </script>\n",
              "</div>\n",
              "\n",
              "    </div>\n",
              "  </div>\n"
            ],
            "application/vnd.google.colaboratory.intrinsic+json": {
              "type": "dataframe",
              "variable_name": "df"
            }
          },
          "metadata": {},
          "execution_count": 56
        },
        {
          "output_type": "stream",
          "name": "stdout",
          "text": [
            "Warning: Total number of columns (21) exceeds max_columns (20) limiting to first (20) columns.\n"
          ]
        }
      ]
    },
    {
      "cell_type": "code",
      "source": [
        "print(df.head())"
      ],
      "metadata": {
        "colab": {
          "base_uri": "https://localhost:8080/"
        },
        "id": "8PQxX33lt2Fb",
        "outputId": "914bc837-18b0-4bf9-d5af-ae61044b527f"
      },
      "execution_count": null,
      "outputs": [
        {
          "output_type": "stream",
          "name": "stdout",
          "text": [
            "  checking_status  duration                  credit_history  \\\n",
            "0              <0       6.0  critical/other existing credit   \n",
            "1        0<=X<200      48.0                   existing paid   \n",
            "2     no checking      12.0  critical/other existing credit   \n",
            "3              <0      42.0                   existing paid   \n",
            "4              <0      24.0              delayed previously   \n",
            "\n",
            "               purpose  credit_amount    savings_status employment  \\\n",
            "0             radio/tv         1169.0  no known savings        >=7   \n",
            "1             radio/tv         5951.0              <100     1<=X<4   \n",
            "2            education         2096.0              <100     4<=X<7   \n",
            "3  furniture/equipment         7882.0              <100     4<=X<7   \n",
            "4              new car         4870.0              <100     1<=X<4   \n",
            "\n",
            "   installment_commitment     personal_status other_parties  ...  \\\n",
            "0                     4.0         male single          none  ...   \n",
            "1                     2.0  female div/dep/mar          none  ...   \n",
            "2                     2.0         male single          none  ...   \n",
            "3                     2.0         male single     guarantor  ...   \n",
            "4                     3.0         male single          none  ...   \n",
            "\n",
            "   property_magnitude   age  other_payment_plans   housing existing_credits  \\\n",
            "0         real estate  67.0                 none       own              2.0   \n",
            "1         real estate  22.0                 none       own              1.0   \n",
            "2         real estate  49.0                 none       own              1.0   \n",
            "3      life insurance  45.0                 none  for free              1.0   \n",
            "4   no known property  53.0                 none  for free              2.0   \n",
            "\n",
            "                  job num_dependents  own_telephone foreign_worker class  \n",
            "0             skilled            1.0            yes            yes  good  \n",
            "1             skilled            1.0           none            yes   bad  \n",
            "2  unskilled resident            2.0           none            yes  good  \n",
            "3             skilled            2.0           none            yes  good  \n",
            "4             skilled            2.0           none            yes   bad  \n",
            "\n",
            "[5 rows x 21 columns]\n"
          ]
        }
      ]
    },
    {
      "cell_type": "code",
      "source": [
        "print(df.tail())"
      ],
      "metadata": {
        "colab": {
          "base_uri": "https://localhost:8080/"
        },
        "id": "TvPpaBgzt2Ia",
        "outputId": "77b0a9ad-2d13-4a36-f656-b367832b4c11"
      },
      "execution_count": null,
      "outputs": [
        {
          "output_type": "stream",
          "name": "stdout",
          "text": [
            "    checking_status  duration                  credit_history  \\\n",
            "995     no checking      12.0                   existing paid   \n",
            "996              <0      30.0                   existing paid   \n",
            "997     no checking      12.0                   existing paid   \n",
            "998              <0      45.0                   existing paid   \n",
            "999        0<=X<200      45.0  critical/other existing credit   \n",
            "\n",
            "                 purpose  credit_amount savings_status  employment  \\\n",
            "995  furniture/equipment         1736.0           <100      4<=X<7   \n",
            "996             used car         3857.0           <100      1<=X<4   \n",
            "997             radio/tv          804.0           <100         >=7   \n",
            "998             radio/tv         1845.0           <100      1<=X<4   \n",
            "999             used car         4576.0     100<=X<500  unemployed   \n",
            "\n",
            "     installment_commitment     personal_status other_parties  ...  \\\n",
            "995                     3.0  female div/dep/mar          none  ...   \n",
            "996                     4.0        male div/sep          none  ...   \n",
            "997                     4.0         male single          none  ...   \n",
            "998                     4.0         male single          none  ...   \n",
            "999                     3.0         male single          none  ...   \n",
            "\n",
            "     property_magnitude   age  other_payment_plans   housing existing_credits  \\\n",
            "995         real estate  31.0                 none       own              1.0   \n",
            "996      life insurance  40.0                 none       own              1.0   \n",
            "997                 car  38.0                 none       own              1.0   \n",
            "998   no known property  23.0                 none  for free              1.0   \n",
            "999                 car  27.0                 none       own              1.0   \n",
            "\n",
            "                           job num_dependents  own_telephone foreign_worker  \\\n",
            "995         unskilled resident            1.0           none            yes   \n",
            "996  high qualif/self emp/mgmt            1.0            yes            yes   \n",
            "997                    skilled            1.0           none            yes   \n",
            "998                    skilled            1.0            yes            yes   \n",
            "999                    skilled            1.0           none            yes   \n",
            "\n",
            "    class  \n",
            "995  good  \n",
            "996  good  \n",
            "997  good  \n",
            "998   bad  \n",
            "999  good  \n",
            "\n",
            "[5 rows x 21 columns]\n"
          ]
        }
      ]
    },
    {
      "cell_type": "code",
      "source": [
        "print(df.info())"
      ],
      "metadata": {
        "colab": {
          "base_uri": "https://localhost:8080/"
        },
        "id": "wPxVbXCct2Lc",
        "outputId": "bd2d3838-bc81-4d6b-b701-b1297ec77bea"
      },
      "execution_count": null,
      "outputs": [
        {
          "output_type": "stream",
          "name": "stdout",
          "text": [
            "<class 'pandas.core.frame.DataFrame'>\n",
            "RangeIndex: 1000 entries, 0 to 999\n",
            "Data columns (total 21 columns):\n",
            " #   Column                  Non-Null Count  Dtype  \n",
            "---  ------                  --------------  -----  \n",
            " 0   checking_status         1000 non-null   object \n",
            " 1   duration                1000 non-null   float64\n",
            " 2   credit_history          1000 non-null   object \n",
            " 3   purpose                 1000 non-null   object \n",
            " 4   credit_amount           1000 non-null   float64\n",
            " 5   savings_status          1000 non-null   object \n",
            " 6   employment              1000 non-null   object \n",
            " 7   installment_commitment  1000 non-null   float64\n",
            " 8   personal_status         1000 non-null   object \n",
            " 9   other_parties           1000 non-null   object \n",
            " 10  residence_since         1000 non-null   float64\n",
            " 11  property_magnitude      1000 non-null   object \n",
            " 12  age                     1000 non-null   float64\n",
            " 13  other_payment_plans     1000 non-null   object \n",
            " 14  housing                 1000 non-null   object \n",
            " 15  existing_credits        1000 non-null   float64\n",
            " 16  job                     1000 non-null   object \n",
            " 17  num_dependents          1000 non-null   float64\n",
            " 18  own_telephone           1000 non-null   object \n",
            " 19  foreign_worker          1000 non-null   object \n",
            " 20  class                   1000 non-null   object \n",
            "dtypes: float64(7), object(14)\n",
            "memory usage: 164.2+ KB\n",
            "None\n"
          ]
        }
      ]
    },
    {
      "cell_type": "code",
      "source": [
        "# Display column names\n",
        "print(df.columns)"
      ],
      "metadata": {
        "colab": {
          "base_uri": "https://localhost:8080/"
        },
        "id": "boTzSTbWt2Oe",
        "outputId": "e0708a97-b748-4cc1-ed4f-46224ecb4012"
      },
      "execution_count": null,
      "outputs": [
        {
          "output_type": "stream",
          "name": "stdout",
          "text": [
            "Index(['checking_status', 'duration', 'credit_history', 'purpose',\n",
            "       'credit_amount', 'savings_status', 'employment',\n",
            "       'installment_commitment', 'personal_status', 'other_parties',\n",
            "       'residence_since', 'property_magnitude', 'age', 'other_payment_plans',\n",
            "       'housing', 'existing_credits', 'job', 'num_dependents', 'own_telephone',\n",
            "       'foreign_worker', 'class'],\n",
            "      dtype='object')\n"
          ]
        }
      ]
    },
    {
      "cell_type": "code",
      "source": [
        "# Display data types of each column\n",
        "print(df.dtypes)"
      ],
      "metadata": {
        "colab": {
          "base_uri": "https://localhost:8080/"
        },
        "id": "UCRuc8tvt2RR",
        "outputId": "9d7d4f02-b4df-4af4-d3d7-624d3e738dad"
      },
      "execution_count": null,
      "outputs": [
        {
          "output_type": "stream",
          "name": "stdout",
          "text": [
            "checking_status            object\n",
            "duration                  float64\n",
            "credit_history             object\n",
            "purpose                    object\n",
            "credit_amount             float64\n",
            "savings_status             object\n",
            "employment                 object\n",
            "installment_commitment    float64\n",
            "personal_status            object\n",
            "other_parties              object\n",
            "residence_since           float64\n",
            "property_magnitude         object\n",
            "age                       float64\n",
            "other_payment_plans        object\n",
            "housing                    object\n",
            "existing_credits          float64\n",
            "job                        object\n",
            "num_dependents            float64\n",
            "own_telephone              object\n",
            "foreign_worker             object\n",
            "class                      object\n",
            "dtype: object\n"
          ]
        }
      ]
    },
    {
      "cell_type": "code",
      "source": [
        "# Get descriptive statistics\n",
        "print(df.describe(include='all'))"
      ],
      "metadata": {
        "colab": {
          "base_uri": "https://localhost:8080/"
        },
        "id": "VZ6PkGP0t2Uh",
        "outputId": "41a506f4-e856-46f2-ae18-0684967241b0"
      },
      "execution_count": null,
      "outputs": [
        {
          "output_type": "stream",
          "name": "stdout",
          "text": [
            "       checking_status     duration credit_history   purpose  credit_amount  \\\n",
            "count             1000  1000.000000           1000      1000    1000.000000   \n",
            "unique               4          NaN              5        10            NaN   \n",
            "top        no checking          NaN  existing paid  radio/tv            NaN   \n",
            "freq               394          NaN            530       280            NaN   \n",
            "mean               NaN    20.903000            NaN       NaN    3271.258000   \n",
            "std                NaN    12.058814            NaN       NaN    2822.736876   \n",
            "min                NaN     4.000000            NaN       NaN     250.000000   \n",
            "25%                NaN    12.000000            NaN       NaN    1365.500000   \n",
            "50%                NaN    18.000000            NaN       NaN    2319.500000   \n",
            "75%                NaN    24.000000            NaN       NaN    3972.250000   \n",
            "max                NaN    72.000000            NaN       NaN   18424.000000   \n",
            "\n",
            "       savings_status employment  installment_commitment personal_status  \\\n",
            "count            1000       1000             1000.000000            1000   \n",
            "unique              5          5                     NaN               4   \n",
            "top              <100     1<=X<4                     NaN     male single   \n",
            "freq              603        339                     NaN             548   \n",
            "mean              NaN        NaN                2.973000             NaN   \n",
            "std               NaN        NaN                1.118715             NaN   \n",
            "min               NaN        NaN                1.000000             NaN   \n",
            "25%               NaN        NaN                2.000000             NaN   \n",
            "50%               NaN        NaN                3.000000             NaN   \n",
            "75%               NaN        NaN                4.000000             NaN   \n",
            "max               NaN        NaN                4.000000             NaN   \n",
            "\n",
            "       other_parties  ...  property_magnitude          age  \\\n",
            "count           1000  ...                1000  1000.000000   \n",
            "unique             3  ...                   4          NaN   \n",
            "top             none  ...                 car          NaN   \n",
            "freq             907  ...                 332          NaN   \n",
            "mean             NaN  ...                 NaN    35.546000   \n",
            "std              NaN  ...                 NaN    11.375469   \n",
            "min              NaN  ...                 NaN    19.000000   \n",
            "25%              NaN  ...                 NaN    27.000000   \n",
            "50%              NaN  ...                 NaN    33.000000   \n",
            "75%              NaN  ...                 NaN    42.000000   \n",
            "max              NaN  ...                 NaN    75.000000   \n",
            "\n",
            "        other_payment_plans housing existing_credits      job num_dependents  \\\n",
            "count                  1000    1000      1000.000000     1000    1000.000000   \n",
            "unique                    3       3              NaN        4            NaN   \n",
            "top                    none     own              NaN  skilled            NaN   \n",
            "freq                    814     713              NaN      630            NaN   \n",
            "mean                    NaN     NaN         1.407000      NaN       1.155000   \n",
            "std                     NaN     NaN         0.577654      NaN       0.362086   \n",
            "min                     NaN     NaN         1.000000      NaN       1.000000   \n",
            "25%                     NaN     NaN         1.000000      NaN       1.000000   \n",
            "50%                     NaN     NaN         1.000000      NaN       1.000000   \n",
            "75%                     NaN     NaN         2.000000      NaN       1.000000   \n",
            "max                     NaN     NaN         4.000000      NaN       2.000000   \n",
            "\n",
            "        own_telephone foreign_worker class  \n",
            "count            1000           1000  1000  \n",
            "unique              2              2     2  \n",
            "top              none            yes  good  \n",
            "freq              596            963   700  \n",
            "mean              NaN            NaN   NaN  \n",
            "std               NaN            NaN   NaN  \n",
            "min               NaN            NaN   NaN  \n",
            "25%               NaN            NaN   NaN  \n",
            "50%               NaN            NaN   NaN  \n",
            "75%               NaN            NaN   NaN  \n",
            "max               NaN            NaN   NaN  \n",
            "\n",
            "[11 rows x 21 columns]\n"
          ]
        }
      ]
    },
    {
      "cell_type": "code",
      "source": [
        "# Check for missing values\n",
        "print(df.isnull().sum())"
      ],
      "metadata": {
        "colab": {
          "base_uri": "https://localhost:8080/"
        },
        "id": "K70t0RbOt2W4",
        "outputId": "78f86e1e-209d-4cdd-9890-b387edb7d157"
      },
      "execution_count": null,
      "outputs": [
        {
          "output_type": "stream",
          "name": "stdout",
          "text": [
            "checking_status           0\n",
            "duration                  0\n",
            "credit_history            0\n",
            "purpose                   0\n",
            "credit_amount             0\n",
            "savings_status            0\n",
            "employment                0\n",
            "installment_commitment    0\n",
            "personal_status           0\n",
            "other_parties             0\n",
            "residence_since           0\n",
            "property_magnitude        0\n",
            "age                       0\n",
            "other_payment_plans       0\n",
            "housing                   0\n",
            "existing_credits          0\n",
            "job                       0\n",
            "num_dependents            0\n",
            "own_telephone             0\n",
            "foreign_worker            0\n",
            "class                     0\n",
            "dtype: int64\n"
          ]
        }
      ]
    },
    {
      "cell_type": "code",
      "source": [
        "# Check for duplicate records\n",
        "print(f\"Number of duplicate rows: {df.duplicated().sum()}\")"
      ],
      "metadata": {
        "colab": {
          "base_uri": "https://localhost:8080/"
        },
        "id": "3iCEuaztt2aX",
        "outputId": "2ae37b03-f5fe-4e5f-e754-c465d60e3ef1"
      },
      "execution_count": null,
      "outputs": [
        {
          "output_type": "stream",
          "name": "stdout",
          "text": [
            "Number of duplicate rows: 0\n"
          ]
        }
      ]
    },
    {
      "cell_type": "code",
      "source": [
        "# Check for duplicate records\n",
        "print(f\"Number of duplicate columns: {df.duplicated().sum()}\")"
      ],
      "metadata": {
        "colab": {
          "base_uri": "https://localhost:8080/"
        },
        "id": "BvBGOoQf5LHF",
        "outputId": "af65e62d-fdbb-48e6-c736-27de70c9c508"
      },
      "execution_count": null,
      "outputs": [
        {
          "output_type": "stream",
          "name": "stdout",
          "text": [
            "Number of duplicate columns: 0\n"
          ]
        }
      ]
    },
    {
      "cell_type": "code",
      "source": [
        "# View the distribution of the target variable\n",
        "print(df['class'].value_counts())"
      ],
      "metadata": {
        "colab": {
          "base_uri": "https://localhost:8080/"
        },
        "id": "IVI7inpvujrM",
        "outputId": "8fce9064-2a03-4cc8-fa30-503d339d49f5"
      },
      "execution_count": null,
      "outputs": [
        {
          "output_type": "stream",
          "name": "stdout",
          "text": [
            "class\n",
            "good    700\n",
            "bad     300\n",
            "Name: count, dtype: int64\n"
          ]
        }
      ]
    },
    {
      "cell_type": "code",
      "source": [
        "# Identify categorical columns\n",
        "categorical_cols = df.select_dtypes(include=['object']).columns"
      ],
      "metadata": {
        "id": "9zkl34cYujtw"
      },
      "execution_count": null,
      "outputs": []
    },
    {
      "cell_type": "code",
      "source": [
        "# Display unique values for each categorical column\n",
        "for col in categorical_cols:\n",
        "    print(f\"Unique values in {col}: {df[col].unique()}\")"
      ],
      "metadata": {
        "colab": {
          "base_uri": "https://localhost:8080/"
        },
        "id": "324YOmxQujw2",
        "outputId": "5e52e810-1edb-44d6-86dd-0e799c8669e8"
      },
      "execution_count": null,
      "outputs": [
        {
          "output_type": "stream",
          "name": "stdout",
          "text": [
            "Unique values in checking_status: ['<0' '0<=X<200' 'no checking' '>=200']\n",
            "Unique values in credit_history: ['critical/other existing credit' 'existing paid' 'delayed previously'\n",
            " 'no credits/all paid' 'all paid']\n",
            "Unique values in purpose: ['radio/tv' 'education' 'furniture/equipment' 'new car' 'used car'\n",
            " 'business' 'domestic appliance' 'repairs' 'other' 'retraining']\n",
            "Unique values in savings_status: ['no known savings' '<100' '500<=X<1000' '>=1000' '100<=X<500']\n",
            "Unique values in employment: ['>=7' '1<=X<4' '4<=X<7' 'unemployed' '<1']\n",
            "Unique values in personal_status: ['male single' 'female div/dep/mar' 'male div/sep' 'male mar/wid']\n",
            "Unique values in other_parties: ['none' 'guarantor' 'co applicant']\n",
            "Unique values in property_magnitude: ['real estate' 'life insurance' 'no known property' 'car']\n",
            "Unique values in other_payment_plans: ['none' 'bank' 'stores']\n",
            "Unique values in housing: ['own' 'for free' 'rent']\n",
            "Unique values in job: ['skilled' 'unskilled resident' 'high qualif/self emp/mgmt'\n",
            " 'unemp/unskilled non res']\n",
            "Unique values in own_telephone: ['yes' 'none']\n",
            "Unique values in foreign_worker: ['yes' 'no']\n",
            "Unique values in class: ['good' 'bad']\n"
          ]
        }
      ]
    },
    {
      "cell_type": "code",
      "source": [
        "# Plot the distribution of numerical features\n",
        "df.hist(figsize=(20, 20))\n",
        "plt.show()"
      ],
      "metadata": {
        "colab": {
          "base_uri": "https://localhost:8080/",
          "height": 1000
        },
        "id": "UlMTkGMfujz_",
        "outputId": "77815398-56be-40bc-b034-a048cd3715d8"
      },
      "execution_count": null,
      "outputs": [
        {
          "output_type": "display_data",
          "data": {
            "text/plain": [
              "<Figure size 2000x2000 with 25 Axes>"
            ],
            "image/png": "[encoded data removed]"
          },
          "metadata": {}
        }
      ]
    },
    {
      "cell_type": "code",
      "source": [
        "# Plot the distribution of the target variable\n",
        "sns.countplot(x='class', data=df)\n",
        "plt.show()"
      ],
      "metadata": {
        "colab": {
          "base_uri": "https://localhost:8080/",
          "height": 449
        },
        "id": "e72mOnw8uj20",
        "outputId": "01a60800-9ca9-41c9-edb4-3f6e0a9662f7"
      },
      "execution_count": null,
      "outputs": [
        {
          "output_type": "display_data",
          "data": {
            "text/plain": [
              "<Figure size 640x480 with 1 Axes>"
            ],
            "image/png": "[encoded data removed]"
          },
          "metadata": {}
        }
      ]
    },
    {
      "cell_type": "code",
      "source": [
        "# Remove rows with null values\n",
        "df.dropna(inplace=True)"
      ],
      "metadata": {
        "id": "mb_mMbNYuj75"
      },
      "execution_count": null,
      "outputs": []
    },
    {
      "cell_type": "code",
      "source": [
        "# Verify no null values remain\n",
        "print(df.isnull().sum())"
      ],
      "metadata": {
        "colab": {
          "base_uri": "https://localhost:8080/"
        },
        "id": "wabv1IQjuj_C",
        "outputId": "0f367e83-ed04-4fe3-e4fd-5808d07d0097"
      },
      "execution_count": null,
      "outputs": [
        {
          "output_type": "stream",
          "name": "stdout",
          "text": [
            "checking_status           0\n",
            "duration                  0\n",
            "credit_history            0\n",
            "purpose                   0\n",
            "credit_amount             0\n",
            "savings_status            0\n",
            "employment                0\n",
            "installment_commitment    0\n",
            "personal_status           0\n",
            "other_parties             0\n",
            "residence_since           0\n",
            "property_magnitude        0\n",
            "age                       0\n",
            "other_payment_plans       0\n",
            "housing                   0\n",
            "existing_credits          0\n",
            "job                       0\n",
            "num_dependents            0\n",
            "own_telephone             0\n",
            "foreign_worker            0\n",
            "class                     0\n",
            "dtype: int64\n"
          ]
        }
      ]
    },
    {
      "cell_type": "code",
      "source": [
        "# Check for duplicate records\n",
        "print(f\"Number of duplicate rows: {df.duplicated().sum()}\")"
      ],
      "metadata": {
        "colab": {
          "base_uri": "https://localhost:8080/"
        },
        "id": "gv5BDxU2vVg8",
        "outputId": "a77ae2ba-0b9c-430f-c437-79d8acf540c5"
      },
      "execution_count": null,
      "outputs": [
        {
          "output_type": "stream",
          "name": "stdout",
          "text": [
            "Number of duplicate rows: 0\n"
          ]
        }
      ]
    },
    {
      "cell_type": "code",
      "source": [
        "# Remove duplicate records\n",
        "df.drop_duplicates(inplace=True)"
      ],
      "metadata": {
        "id": "hOxVkHcpvVkQ"
      },
      "execution_count": null,
      "outputs": []
    },
    {
      "cell_type": "code",
      "source": [
        "# Verify no duplicate records remain\n",
        "print(f\"Number of duplicate rows after removal: {df.duplicated().sum()}\")"
      ],
      "metadata": {
        "colab": {
          "base_uri": "https://localhost:8080/"
        },
        "id": "s9_Bxfx2vVnM",
        "outputId": "29286be1-ba44-4807-f278-b73427b300d2"
      },
      "execution_count": null,
      "outputs": [
        {
          "output_type": "stream",
          "name": "stdout",
          "text": [
            "Number of duplicate rows after removal: 0\n"
          ]
        }
      ]
    },
    {
      "cell_type": "code",
      "source": [
        "# Identify categorical columns\n",
        "categorical_cols = df.select_dtypes(include=['object']).columns"
      ],
      "metadata": {
        "id": "ZSFP6mZyvVqK"
      },
      "execution_count": null,
      "outputs": []
    },
    {
      "cell_type": "code",
      "source": [
        "# Apply Label Encoding\n",
        "label_encoders = {}\n",
        "for col in categorical_cols:\n",
        "    label_encoders[col] = LabelEncoder()\n",
        "    df[col] = label_encoders[col].fit_transform(df[col])"
      ],
      "metadata": {
        "id": "7zjlDhYrvVtC"
      },
      "execution_count": null,
      "outputs": []
    },
    {
      "cell_type": "code",
      "source": [
        "# Separate features and target variable\n",
        "X = df.drop(columns=['class'])  # Independent variables\n",
        "y = df['class']  # Dependent variable"
      ],
      "metadata": {
        "id": "87mkiob1vVyc"
      },
      "execution_count": null,
      "outputs": []
    },
    {
      "cell_type": "code",
      "source": [
        "# Verify shapes of X and y\n",
        "print(X.shape, y.shape)"
      ],
      "metadata": {
        "colab": {
          "base_uri": "https://localhost:8080/"
        },
        "id": "jEbl-7rpvV1P",
        "outputId": "8086b037-3f17-4125-f379-4e7fac372b5c"
      },
      "execution_count": null,
      "outputs": [
        {
          "output_type": "stream",
          "name": "stdout",
          "text": [
            "(1000, 20) (1000,)\n"
          ]
        }
      ]
    },
    {
      "cell_type": "code",
      "source": [
        "X_train, X_test, y_train, y_test = train_test_split(X, y, test_size=0.2, random_state=42)\n",
        "\n",
        "# Verify shapes of training and test sets\n",
        "print(X_train.shape, X_test.shape, y_train.shape, y_test.shape)\n"
      ],
      "metadata": {
        "colab": {
          "base_uri": "https://localhost:8080/"
        },
        "id": "WZRl-HWFvV59",
        "outputId": "51d5e53c-cd37-4bdf-d635-2f7db7a782b1"
      },
      "execution_count": null,
      "outputs": [
        {
          "output_type": "stream",
          "name": "stdout",
          "text": [
            "(800, 20) (200, 20) (800,) (200,)\n"
          ]
        }
      ]
    },
    {
      "cell_type": "code",
      "source": [
        "# Logistic Regression\n",
        "log_reg = LogisticRegression(max_iter=1000)\n",
        "log_reg.fit(X_train, y_train)\n",
        "y_pred_log_reg = log_reg.predict(X_test)"
      ],
      "metadata": {
        "id": "e5QbH18WvV8D"
      },
      "execution_count": null,
      "outputs": []
    },
    {
      "cell_type": "code",
      "source": [
        "# Evaluate Logistic Regression\n",
        "print(\"Logistic Regression\")\n",
        "print(confusion_matrix(y_test, y_pred_log_reg))\n",
        "print(classification_report(y_test, y_pred_log_reg))\n",
        "print(f\"Accuracy: {accuracy_score(y_test, y_pred_log_reg)}\")"
      ],
      "metadata": {
        "colab": {
          "base_uri": "https://localhost:8080/"
        },
        "id": "Y81FMbYAvV_l",
        "outputId": "1239de35-5716-4318-c793-bd43a18cd8fc"
      },
      "execution_count": null,
      "outputs": [
        {
          "output_type": "stream",
          "name": "stdout",
          "text": [
            "Logistic Regression\n",
            "[[ 19  40]\n",
            " [ 14 127]]\n",
            "              precision    recall  f1-score   support\n",
            "\n",
            "           0       0.58      0.32      0.41        59\n",
            "           1       0.76      0.90      0.82       141\n",
            "\n",
            "    accuracy                           0.73       200\n",
            "   macro avg       0.67      0.61      0.62       200\n",
            "weighted avg       0.71      0.73      0.70       200\n",
            "\n",
            "Accuracy: 0.73\n"
          ]
        }
      ]
    },
    {
      "cell_type": "code",
      "source": [
        "print(\"Predictions using Logistic Regression:\")\n",
        "print(y_pred_log_reg)"
      ],
      "metadata": {
        "colab": {
          "base_uri": "https://localhost:8080/"
        },
        "id": "yln6VXZh2FMv",
        "outputId": "18717554-c38e-4bb9-a37f-fd85856e6178"
      },
      "execution_count": null,
      "outputs": [
        {
          "output_type": "stream",
          "name": "stdout",
          "text": [
            "Predictions using Logistic Regression:\n",
            "[1 1 1 1 1 1 1 1 1 1 1 1 1 0 0 1 1 1 0 1 1 1 1 1 1 1 0 0 1 1 1 1 1 1 1 1 0\n",
            " 1 1 0 1 1 1 1 1 1 1 0 1 1 1 1 1 0 1 0 1 0 0 1 1 1 0 1 1 1 1 1 1 1 1 1 1 1\n",
            " 1 1 1 1 1 1 1 1 1 1 1 1 1 0 1 1 1 1 0 1 1 1 1 1 0 1 1 1 1 1 1 1 1 0 1 1 0\n",
            " 1 1 1 0 1 1 1 1 0 1 1 1 1 0 1 1 1 1 1 1 1 1 1 1 1 1 1 1 1 1 1 0 1 1 1 1 1\n",
            " 1 1 1 0 1 1 1 0 1 1 1 0 1 1 1 0 1 1 1 1 1 0 1 1 0 1 1 1 1 1 1 0 1 1 1 1 1\n",
            " 1 1 1 1 1 1 0 0 0 1 1 0 1 1 1]\n"
          ]
        }
      ]
    },
    {
      "cell_type": "code",
      "source": [
        "# KNN Classification\n",
        "knn = KNeighborsClassifier(n_neighbors=5)\n",
        "knn.fit(X_train, y_train)\n",
        "y_pred_knn = knn.predict(X_test)"
      ],
      "metadata": {
        "id": "uWns1ZLZwHLL"
      },
      "execution_count": null,
      "outputs": []
    },
    {
      "cell_type": "code",
      "source": [
        "# Evaluate KNN\n",
        "print(\"KNN Classification\")\n",
        "print(confusion_matrix(y_test, y_pred_knn))\n",
        "print(classification_report(y_test, y_pred_knn))\n",
        "print(f\"Accuracy: {accuracy_score(y_test, y_pred_knn)}\")"
      ],
      "metadata": {
        "colab": {
          "base_uri": "https://localhost:8080/"
        },
        "id": "0j6A08YxwHcw",
        "outputId": "5e56cfd1-5e82-4f09-d31b-bd5da26a4b89"
      },
      "execution_count": null,
      "outputs": [
        {
          "output_type": "stream",
          "name": "stdout",
          "text": [
            "KNN Classification\n",
            "[[ 14  45]\n",
            " [ 18 123]]\n",
            "              precision    recall  f1-score   support\n",
            "\n",
            "           0       0.44      0.24      0.31        59\n",
            "           1       0.73      0.87      0.80       141\n",
            "\n",
            "    accuracy                           0.69       200\n",
            "   macro avg       0.58      0.55      0.55       200\n",
            "weighted avg       0.65      0.69      0.65       200\n",
            "\n",
            "Accuracy: 0.685\n"
          ]
        }
      ]
    },
    {
      "cell_type": "code",
      "source": [
        "print(\"Predictions using KNN Classification:\")\n",
        "print(y_pred_knn)"
      ],
      "metadata": {
        "colab": {
          "base_uri": "https://localhost:8080/"
        },
        "id": "resyqKrG2Adm",
        "outputId": "5880d2db-33b7-4445-fb29-751fe4c457b9"
      },
      "execution_count": null,
      "outputs": [
        {
          "output_type": "stream",
          "name": "stdout",
          "text": [
            "Predictions using KNN Classification:\n",
            "[1 1 1 1 1 1 1 1 1 1 1 1 0 1 1 0 1 1 1 1 0 1 1 1 1 0 1 1 1 1 1 1 1 1 0 1 1\n",
            " 1 1 1 1 1 1 1 1 1 0 0 1 1 1 0 1 1 1 1 1 1 1 1 1 1 1 1 0 1 1 1 0 1 1 1 1 1\n",
            " 0 1 1 1 1 1 1 1 1 1 1 1 0 0 1 1 0 1 1 1 1 0 1 1 0 1 1 1 0 1 1 1 1 1 1 0 1\n",
            " 1 0 1 1 1 1 1 0 1 1 1 0 0 1 1 0 1 1 1 1 1 1 1 1 1 1 1 1 1 1 1 1 1 1 1 0 1\n",
            " 1 1 0 1 1 0 1 1 1 1 1 1 1 1 0 1 1 0 1 1 1 1 1 1 1 1 1 1 1 1 0 1 1 0 1 1 1\n",
            " 1 1 1 0 1 1 1 1 0 1 1 1 1 1 1]\n"
          ]
        }
      ]
    },
    {
      "cell_type": "code",
      "source": [
        "# SVM with Linear Kernel\n",
        "svm_linear = SVC(kernel='linear')\n",
        "svm_linear.fit(X_train, y_train)\n",
        "y_pred_svm_linear = svm_linear.predict(X_test)"
      ],
      "metadata": {
        "id": "GTXEpyiDwHgU"
      },
      "execution_count": null,
      "outputs": []
    },
    {
      "cell_type": "code",
      "source": [
        "# Evaluate SVM Linear\n",
        "print(\"SVM with Linear Kernel\")\n",
        "print(confusion_matrix(y_test, y_pred_svm_linear))\n",
        "print(classification_report(y_test, y_pred_svm_linear))\n",
        "print(f\"Accuracy: {accuracy_score(y_test, y_pred_svm_linear)}\")\n"
      ],
      "metadata": {
        "colab": {
          "base_uri": "https://localhost:8080/"
        },
        "id": "Kgm8KxM_wHit",
        "outputId": "9e2e1689-01ed-4043-8a53-002cbbbe265d"
      },
      "execution_count": null,
      "outputs": [
        {
          "output_type": "stream",
          "name": "stdout",
          "text": [
            "SVM with Linear Kernel\n",
            "[[ 24  35]\n",
            " [ 25 116]]\n",
            "              precision    recall  f1-score   support\n",
            "\n",
            "           0       0.49      0.41      0.44        59\n",
            "           1       0.77      0.82      0.79       141\n",
            "\n",
            "    accuracy                           0.70       200\n",
            "   macro avg       0.63      0.61      0.62       200\n",
            "weighted avg       0.69      0.70      0.69       200\n",
            "\n",
            "Accuracy: 0.7\n"
          ]
        }
      ]
    },
    {
      "cell_type": "code",
      "source": [
        "print(\"Predictions using SVM with Linear Kernel:\")\n",
        "print(y_pred_svm_linear)"
      ],
      "metadata": {
        "colab": {
          "base_uri": "https://localhost:8080/"
        },
        "id": "UjhQJUp61yZz",
        "outputId": "0f9644bd-2d9d-4a45-ee50-effcec6f7dce"
      },
      "execution_count": null,
      "outputs": [
        {
          "output_type": "stream",
          "name": "stdout",
          "text": [
            "Predictions using SVM with Linear Kernel:\n",
            "[1 1 1 1 1 1 1 0 1 1 1 1 1 0 0 1 1 1 0 1 1 1 1 1 1 1 0 0 1 1 1 1 1 1 1 1 0\n",
            " 1 1 0 1 1 1 1 1 1 1 0 1 1 0 1 1 0 1 0 1 0 0 1 1 0 0 1 1 0 1 1 1 1 0 1 1 1\n",
            " 1 1 1 1 1 1 1 1 1 0 1 1 1 0 1 1 1 1 0 1 1 1 1 0 0 0 1 1 1 1 1 1 0 0 1 0 0\n",
            " 1 0 1 0 1 0 1 1 0 1 1 1 1 0 1 1 1 1 1 1 1 1 1 1 1 1 1 1 1 1 1 0 1 1 1 0 1\n",
            " 1 1 1 0 0 1 1 0 0 1 0 0 1 1 1 0 1 1 1 1 1 0 1 1 0 1 1 1 1 1 1 0 1 1 1 1 1\n",
            " 1 1 1 1 1 1 0 0 0 1 1 0 1 1 1]\n"
          ]
        }
      ]
    },
    {
      "cell_type": "code",
      "source": [
        "# SVM with RBF Kernel\n",
        "svm_rbf = SVC(kernel='rbf')\n",
        "svm_rbf.fit(X_train, y_train)\n",
        "y_pred_svm_rbf = svm_rbf.predict(X_test)\n"
      ],
      "metadata": {
        "id": "1xrhpddVwHlt"
      },
      "execution_count": null,
      "outputs": []
    },
    {
      "cell_type": "code",
      "source": [
        "# Evaluate SVM RBF\n",
        "print(\"SVM with RBF Kernel\")\n",
        "print(confusion_matrix(y_test, y_pred_svm_rbf))\n",
        "print(classification_report(y_test, y_pred_svm_rbf))\n",
        "print(f\"Accuracy: {accuracy_score(y_test, y_pred_svm_rbf)}\")"
      ],
      "metadata": {
        "colab": {
          "base_uri": "https://localhost:8080/"
        },
        "id": "orrDGRlrwHop",
        "outputId": "36990ac8-c61d-4434-8115-20d5560efb6a"
      },
      "execution_count": null,
      "outputs": [
        {
          "output_type": "stream",
          "name": "stdout",
          "text": [
            "SVM with RBF Kernel\n",
            "[[  3  56]\n",
            " [  1 140]]\n",
            "              precision    recall  f1-score   support\n",
            "\n",
            "           0       0.75      0.05      0.10        59\n",
            "           1       0.71      0.99      0.83       141\n",
            "\n",
            "    accuracy                           0.71       200\n",
            "   macro avg       0.73      0.52      0.46       200\n",
            "weighted avg       0.72      0.71      0.61       200\n",
            "\n",
            "Accuracy: 0.715\n"
          ]
        }
      ]
    },
    {
      "cell_type": "code",
      "source": [
        "print(\"Predictions using SVM with RBF Kernel:\")\n",
        "print(y_pred_svm_rbf)"
      ],
      "metadata": {
        "colab": {
          "base_uri": "https://localhost:8080/"
        },
        "id": "PL991rO-13_5",
        "outputId": "f9f08c8b-934a-46fe-b36b-0143168653df"
      },
      "execution_count": null,
      "outputs": [
        {
          "output_type": "stream",
          "name": "stdout",
          "text": [
            "Predictions using SVM with RBF Kernel:\n",
            "[1 1 1 1 1 1 1 1 1 1 1 1 1 1 1 1 1 1 1 1 1 1 1 1 1 1 1 1 0 1 1 1 1 1 1 1 1\n",
            " 1 1 1 1 1 1 1 1 1 1 1 1 1 1 1 1 1 1 1 1 1 1 1 1 1 1 1 1 1 1 1 1 1 1 1 1 1\n",
            " 1 1 1 1 1 1 1 1 1 1 1 1 1 0 1 1 1 1 1 1 1 1 1 1 0 1 1 1 1 1 1 1 1 1 1 0 1\n",
            " 1 1 1 1 1 1 1 1 1 1 1 1 1 1 1 1 1 1 1 1 1 1 1 1 1 1 1 1 1 1 1 1 1 1 1 1 1\n",
            " 1 1 1 1 1 1 1 1 1 1 1 1 1 1 1 1 1 1 1 1 1 1 1 1 1 1 1 1 1 1 1 1 1 1 1 1 1\n",
            " 1 1 1 1 1 1 1 1 1 1 1 1 1 1 1]\n"
          ]
        }
      ]
    },
    {
      "cell_type": "code",
      "source": [
        "model_accuracies = {\n",
        "    'Logistic Regression': accuracy_score(y_test, y_pred_log_reg),\n",
        "    'KNN': accuracy_score(y_test, y_pred_knn),\n",
        "    'SVM Linear': accuracy_score(y_test, y_pred_svm_linear),\n",
        "    'SVM RBF': accuracy_score(y_test, y_pred_svm_rbf)\n",
        "}"
      ],
      "metadata": {
        "id": "J5tzKX59wHrw"
      },
      "execution_count": null,
      "outputs": []
    },
    {
      "cell_type": "code",
      "source": [
        "# Determine the best model\n",
        "best_model = max(model_accuracies, key=model_accuracies.get)\n",
        "print(f\"The model with the best accuracy is {best_model} with an accuracy of {model_accuracies[best_model]}\")"
      ],
      "metadata": {
        "colab": {
          "base_uri": "https://localhost:8080/"
        },
        "id": "0Jb851CmwHvD",
        "outputId": "dbe51c94-91cc-43a6-df31-3bf2b8acec60"
      },
      "execution_count": null,
      "outputs": [
        {
          "output_type": "stream",
          "name": "stdout",
          "text": [
            "The model with the best accuracy is Logistic Regression with an accuracy of 0.73\n"
          ]
        }
      ]
    }
  ]
}